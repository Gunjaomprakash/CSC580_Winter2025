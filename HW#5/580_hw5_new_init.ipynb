{
 "cells": [
  {
   "cell_type": "markdown",
   "metadata": {
    "id": "3r-bshJKhus7"
   },
   "source": [
    "## 2025 HW\\#5 Atari Breakout using DQN -- Starter Code\n",
    "\n",
    "## 1. CoLab Setup"
   ]
  },
  {
   "cell_type": "code",
   "execution_count": 1,
   "metadata": {
    "colab": {
     "base_uri": "https://localhost:8080/"
    },
    "id": "wPdpqfgWyPhX",
    "outputId": "3208b76e-e4f3-4159-ce68-26d406af3779"
   },
   "outputs": [
    {
     "name": "stdout",
     "output_type": "stream",
     "text": [
      "Mounted at /content/drive\n"
     ]
    }
   ],
   "source": [
    "## Code piece to mount my Google Drive\n",
    "from google.colab import drive\n",
    "drive.mount(\"/content/drive\") # my Google Drive root directory will be mapped here"
   ]
  },
  {
   "cell_type": "code",
   "execution_count": 2,
   "metadata": {
    "colab": {
     "base_uri": "https://localhost:8080/"
    },
    "id": "h-yGHCLUykEB",
    "outputId": "5a3a17c1-4635-475f-e072-17af605e6524"
   },
   "outputs": [
    {
     "name": "stdout",
     "output_type": "stream",
     "text": [
      "/content/drive/My Drive/CSC580_Winter2025/HW5\n"
     ]
    }
   ],
   "source": [
    "# Change the working directory to your own work directory (where the code file is).\n",
    "import os\n",
    "thisdir = '/content/drive/My Drive/CSC580_Winter2025/HW5'\n",
    "os.chdir(thisdir)\n",
    "\n",
    "# Ensure the files are there (in the folder)\n",
    "!pwd"
   ]
  },
  {
   "cell_type": "markdown",
   "metadata": {
    "id": "STkMwe3sG7hd"
   },
   "source": [
    "### 2. Install libraries related to graphics and Gymnasium"
   ]
  },
  {
   "cell_type": "code",
   "execution_count": 3,
   "metadata": {
    "colab": {
     "base_uri": "https://localhost:8080/"
    },
    "id": "-HKxlFasfybl",
    "outputId": "be888eb1-d659-4976-eb94-c62e4a33f19e"
   },
   "outputs": [
    {
     "name": "stdout",
     "output_type": "stream",
     "text": [
      "\r",
      "0% [Working]\r",
      "            \r",
      "Get:1 https://cloud.r-project.org/bin/linux/ubuntu jammy-cran40/ InRelease [3,632 B]\n",
      "Get:2 https://developer.download.nvidia.com/compute/cuda/repos/ubuntu2204/x86_64  InRelease [1,581 B]\n",
      "Get:3 https://cloud.r-project.org/bin/linux/ubuntu jammy-cran40/ Packages [66.7 kB]\n",
      "Get:4 https://developer.download.nvidia.com/compute/cuda/repos/ubuntu2204/x86_64  Packages [1,309 kB]\n",
      "Get:5 http://security.ubuntu.com/ubuntu jammy-security InRelease [129 kB]\n",
      "Hit:6 http://archive.ubuntu.com/ubuntu jammy InRelease\n",
      "Hit:7 https://ppa.launchpadcontent.net/deadsnakes/ppa/ubuntu jammy InRelease\n",
      "Get:8 http://archive.ubuntu.com/ubuntu jammy-updates InRelease [128 kB]\n",
      "Get:9 https://ppa.launchpadcontent.net/graphics-drivers/ppa/ubuntu jammy InRelease [24.3 kB]\n",
      "Get:10 https://r2u.stat.illinois.edu/ubuntu jammy InRelease [6,555 B]\n",
      "Hit:11 https://ppa.launchpadcontent.net/ubuntugis/ppa/ubuntu jammy InRelease\n",
      "Get:12 https://ppa.launchpadcontent.net/graphics-drivers/ppa/ubuntu jammy/main amd64 Packages [57.8 kB]\n",
      "Get:13 https://r2u.stat.illinois.edu/ubuntu jammy/main amd64 Packages [2,653 kB]\n",
      "Get:14 http://security.ubuntu.com/ubuntu jammy-security/main amd64 Packages [2,606 kB]\n",
      "Get:15 http://archive.ubuntu.com/ubuntu jammy-backports InRelease [127 kB]\n",
      "Get:16 http://archive.ubuntu.com/ubuntu jammy-updates/main amd64 Packages [2,907 kB]\n",
      "Get:17 http://security.ubuntu.com/ubuntu jammy-security/universe amd64 Packages [1,230 kB]\n",
      "Get:18 http://archive.ubuntu.com/ubuntu jammy-updates/universe amd64 Packages [1,523 kB]\n",
      "Get:19 https://r2u.stat.illinois.edu/ubuntu jammy/main all Packages [8,665 kB]\n",
      "Fetched 21.4 MB in 5s (4,662 kB/s)\n",
      "Reading package lists... Done\n",
      "W: Skipping acquire of configured file 'main/source/Sources' as repository 'https://r2u.stat.illinois.edu/ubuntu jammy InRelease' does not seem to provide it (sources.list entry misspelt?)\n",
      "Reading package lists... Done\n",
      "Building dependency tree... Done\n",
      "Reading state information... Done\n",
      "The following additional packages will be installed:\n",
      "  libfontenc1 libxfont2 libxkbfile1 x11-xkb-utils xfonts-base xfonts-encodings xfonts-utils\n",
      "  xserver-common\n",
      "The following NEW packages will be installed:\n",
      "  libfontenc1 libxfont2 libxkbfile1 x11-xkb-utils xfonts-base xfonts-encodings xfonts-utils\n",
      "  xserver-common xvfb\n",
      "0 upgraded, 9 newly installed, 0 to remove and 25 not upgraded.\n",
      "Need to get 7,815 kB of archives.\n",
      "After this operation, 11.9 MB of additional disk space will be used.\n",
      "Get:1 http://archive.ubuntu.com/ubuntu jammy/main amd64 libfontenc1 amd64 1:1.1.4-1build3 [14.7 kB]\n",
      "Get:2 http://archive.ubuntu.com/ubuntu jammy/main amd64 libxfont2 amd64 1:2.0.5-1build1 [94.5 kB]\n",
      "Get:3 http://archive.ubuntu.com/ubuntu jammy/main amd64 libxkbfile1 amd64 1:1.1.0-1build3 [71.8 kB]\n",
      "Get:4 http://archive.ubuntu.com/ubuntu jammy/main amd64 x11-xkb-utils amd64 7.7+5build4 [172 kB]\n",
      "Get:5 http://archive.ubuntu.com/ubuntu jammy/main amd64 xfonts-encodings all 1:1.0.5-0ubuntu2 [578 kB]\n",
      "Get:6 http://archive.ubuntu.com/ubuntu jammy/main amd64 xfonts-utils amd64 1:7.7+6build2 [94.6 kB]\n",
      "Get:7 http://archive.ubuntu.com/ubuntu jammy/main amd64 xfonts-base all 1:1.0.5 [5,896 kB]\n",
      "Get:8 http://archive.ubuntu.com/ubuntu jammy-updates/main amd64 xserver-common all 2:21.1.4-2ubuntu1.7~22.04.12 [28.7 kB]\n",
      "Get:9 http://archive.ubuntu.com/ubuntu jammy-updates/universe amd64 xvfb amd64 2:21.1.4-2ubuntu1.7~22.04.12 [864 kB]\n",
      "Fetched 7,815 kB in 3s (2,851 kB/s)\n",
      "Selecting previously unselected package libfontenc1:amd64.\n",
      "(Reading database ... 124926 files and directories currently installed.)\n",
      "Preparing to unpack .../0-libfontenc1_1%3a1.1.4-1build3_amd64.deb ...\n",
      "Unpacking libfontenc1:amd64 (1:1.1.4-1build3) ...\n",
      "Selecting previously unselected package libxfont2:amd64.\n",
      "Preparing to unpack .../1-libxfont2_1%3a2.0.5-1build1_amd64.deb ...\n",
      "Unpacking libxfont2:amd64 (1:2.0.5-1build1) ...\n",
      "Selecting previously unselected package libxkbfile1:amd64.\n",
      "Preparing to unpack .../2-libxkbfile1_1%3a1.1.0-1build3_amd64.deb ...\n",
      "Unpacking libxkbfile1:amd64 (1:1.1.0-1build3) ...\n",
      "Selecting previously unselected package x11-xkb-utils.\n",
      "Preparing to unpack .../3-x11-xkb-utils_7.7+5build4_amd64.deb ...\n",
      "Unpacking x11-xkb-utils (7.7+5build4) ...\n",
      "Selecting previously unselected package xfonts-encodings.\n",
      "Preparing to unpack .../4-xfonts-encodings_1%3a1.0.5-0ubuntu2_all.deb ...\n",
      "Unpacking xfonts-encodings (1:1.0.5-0ubuntu2) ...\n",
      "Selecting previously unselected package xfonts-utils.\n",
      "Preparing to unpack .../5-xfonts-utils_1%3a7.7+6build2_amd64.deb ...\n",
      "Unpacking xfonts-utils (1:7.7+6build2) ...\n",
      "Selecting previously unselected package xfonts-base.\n",
      "Preparing to unpack .../6-xfonts-base_1%3a1.0.5_all.deb ...\n",
      "Unpacking xfonts-base (1:1.0.5) ...\n",
      "Selecting previously unselected package xserver-common.\n",
      "Preparing to unpack .../7-xserver-common_2%3a21.1.4-2ubuntu1.7~22.04.12_all.deb ...\n",
      "Unpacking xserver-common (2:21.1.4-2ubuntu1.7~22.04.12) ...\n",
      "Selecting previously unselected package xvfb.\n",
      "Preparing to unpack .../8-xvfb_2%3a21.1.4-2ubuntu1.7~22.04.12_amd64.deb ...\n",
      "Unpacking xvfb (2:21.1.4-2ubuntu1.7~22.04.12) ...\n",
      "Setting up libfontenc1:amd64 (1:1.1.4-1build3) ...\n",
      "Setting up xfonts-encodings (1:1.0.5-0ubuntu2) ...\n",
      "Setting up libxkbfile1:amd64 (1:1.1.0-1build3) ...\n",
      "Setting up libxfont2:amd64 (1:2.0.5-1build1) ...\n",
      "Setting up x11-xkb-utils (7.7+5build4) ...\n",
      "Setting up xfonts-utils (1:7.7+6build2) ...\n",
      "Setting up xfonts-base (1:1.0.5) ...\n",
      "Setting up xserver-common (2:21.1.4-2ubuntu1.7~22.04.12) ...\n",
      "Setting up xvfb (2:21.1.4-2ubuntu1.7~22.04.12) ...\n",
      "Processing triggers for man-db (2.10.2-1) ...\n",
      "Processing triggers for fontconfig (2.13.1-4.2ubuntu5) ...\n",
      "Processing triggers for libc-bin (2.35-0ubuntu3.8) ...\n",
      "/sbin/ldconfig.real: /usr/local/lib/libtcm.so.1 is not a symbolic link\n",
      "\n",
      "/sbin/ldconfig.real: /usr/local/lib/libtbbbind_2_0.so.3 is not a symbolic link\n",
      "\n",
      "/sbin/ldconfig.real: /usr/local/lib/libur_loader.so.0 is not a symbolic link\n",
      "\n",
      "/sbin/ldconfig.real: /usr/local/lib/libur_adapter_level_zero.so.0 is not a symbolic link\n",
      "\n",
      "/sbin/ldconfig.real: /usr/local/lib/libumf.so.0 is not a symbolic link\n",
      "\n",
      "/sbin/ldconfig.real: /usr/local/lib/libtbbmalloc.so.2 is not a symbolic link\n",
      "\n",
      "/sbin/ldconfig.real: /usr/local/lib/libtbb.so.12 is not a symbolic link\n",
      "\n",
      "/sbin/ldconfig.real: /usr/local/lib/libtbbmalloc_proxy.so.2 is not a symbolic link\n",
      "\n",
      "/sbin/ldconfig.real: /usr/local/lib/libhwloc.so.15 is not a symbolic link\n",
      "\n",
      "/sbin/ldconfig.real: /usr/local/lib/libtcm_debug.so.1 is not a symbolic link\n",
      "\n",
      "/sbin/ldconfig.real: /usr/local/lib/libur_adapter_opencl.so.0 is not a symbolic link\n",
      "\n",
      "/sbin/ldconfig.real: /usr/local/lib/libtbbbind.so.3 is not a symbolic link\n",
      "\n",
      "/sbin/ldconfig.real: /usr/local/lib/libtbbbind_2_5.so.3 is not a symbolic link\n",
      "\n",
      "Collecting pyvirtualdisplay\n",
      "  Downloading PyVirtualDisplay-3.0-py3-none-any.whl.metadata (943 bytes)\n",
      "Downloading PyVirtualDisplay-3.0-py3-none-any.whl (15 kB)\n",
      "Installing collected packages: pyvirtualdisplay\n",
      "Successfully installed pyvirtualdisplay-3.0\n",
      "Collecting piglet\n",
      "  Downloading piglet-1.0.0-py2.py3-none-any.whl.metadata (814 bytes)\n",
      "Collecting piglet-templates (from piglet)\n",
      "  Downloading piglet_templates-1.3.2-py3-none-any.whl.metadata (2.4 kB)\n",
      "Requirement already satisfied: pyparsing in /usr/local/lib/python3.11/dist-packages (from piglet-templates->piglet) (3.2.1)\n",
      "Requirement already satisfied: attrs in /usr/local/lib/python3.11/dist-packages (from piglet-templates->piglet) (25.1.0)\n",
      "Requirement already satisfied: markupsafe in /usr/local/lib/python3.11/dist-packages (from piglet-templates->piglet) (3.0.2)\n",
      "Downloading piglet-1.0.0-py2.py3-none-any.whl (2.2 kB)\n",
      "Downloading piglet_templates-1.3.2-py3-none-any.whl (67 kB)\n",
      "\u001b[2K   \u001b[90m━━━━━━━━━━━━━━━━━━━━━━━━━━━━━━━━━━━━━━━━\u001b[0m \u001b[32m67.5/67.5 kB\u001b[0m \u001b[31m6.6 MB/s\u001b[0m eta \u001b[36m0:00:00\u001b[0m\n",
      "\u001b[?25hInstalling collected packages: piglet-templates, piglet\n",
      "Successfully installed piglet-1.0.0 piglet-templates-1.3.2\n"
     ]
    },
    {
     "data": {
      "text/plain": [
       "<pyvirtualdisplay.display.Display at 0x78b4e6fd0bd0>"
      ]
     },
     "execution_count": 3,
     "metadata": {},
     "output_type": "execute_result"
    }
   ],
   "source": [
    "!apt-get update\n",
    "!apt install xvfb -y\n",
    "!pip install pyvirtualdisplay\n",
    "!pip install piglet\n",
    "\n",
    "from pyvirtualdisplay import Display\n",
    "display = Display(visible=0, size=(1400, 900))\n",
    "display.start()"
   ]
  },
  {
   "cell_type": "code",
   "execution_count": 4,
   "metadata": {
    "id": "kE8w50T-xvMb"
   },
   "outputs": [],
   "source": [
    "import base64\n",
    "import imageio\n",
    "import IPython\n",
    "import matplotlib\n",
    "import matplotlib.pyplot as plt\n",
    "import numpy as np\n",
    "from PIL import Image, ImageOps\n",
    "import pyvirtualdisplay"
   ]
  },
  {
   "cell_type": "code",
   "execution_count": 5,
   "metadata": {
    "colab": {
     "base_uri": "https://localhost:8080/"
    },
    "id": "VrjRXxSXiiyT",
    "outputId": "5643f10f-0325-48ef-add3-5cca6f99c9ee"
   },
   "outputs": [
    {
     "name": "stdout",
     "output_type": "stream",
     "text": [
      "Requirement already satisfied: gymnasium[atari] in /usr/local/lib/python3.11/dist-packages (1.0.0)\n",
      "Requirement already satisfied: numpy>=1.21.0 in /usr/local/lib/python3.11/dist-packages (from gymnasium[atari]) (1.26.4)\n",
      "Requirement already satisfied: cloudpickle>=1.2.0 in /usr/local/lib/python3.11/dist-packages (from gymnasium[atari]) (3.1.1)\n",
      "Requirement already satisfied: typing-extensions>=4.3.0 in /usr/local/lib/python3.11/dist-packages (from gymnasium[atari]) (4.12.2)\n",
      "Requirement already satisfied: farama-notifications>=0.0.1 in /usr/local/lib/python3.11/dist-packages (from gymnasium[atari]) (0.0.4)\n",
      "Requirement already satisfied: ale-py>=0.9 in /usr/local/lib/python3.11/dist-packages (from gymnasium[atari]) (0.10.1)\n",
      "Requirement already satisfied: gymnasium[accept-rom-license] in /usr/local/lib/python3.11/dist-packages (1.0.0)\n",
      "\u001b[33mWARNING: gymnasium 1.0.0 does not provide the extra 'accept-rom-license'\u001b[0m\u001b[33m\n",
      "\u001b[0mRequirement already satisfied: numpy>=1.21.0 in /usr/local/lib/python3.11/dist-packages (from gymnasium[accept-rom-license]) (1.26.4)\n",
      "Requirement already satisfied: cloudpickle>=1.2.0 in /usr/local/lib/python3.11/dist-packages (from gymnasium[accept-rom-license]) (3.1.1)\n",
      "Requirement already satisfied: typing-extensions>=4.3.0 in /usr/local/lib/python3.11/dist-packages (from gymnasium[accept-rom-license]) (4.12.2)\n",
      "Requirement already satisfied: farama-notifications>=0.0.1 in /usr/local/lib/python3.11/dist-packages (from gymnasium[accept-rom-license]) (0.0.4)\n",
      "Requirement already satisfied: ale-py in /usr/local/lib/python3.11/dist-packages (0.10.1)\n",
      "Requirement already satisfied: numpy>1.20 in /usr/local/lib/python3.11/dist-packages (from ale-py) (1.26.4)\n"
     ]
    }
   ],
   "source": [
    "# % to ensure the libraries are installed in the current environment\n",
    "%pip install gymnasium[atari]\n",
    "%pip install gymnasium[accept-rom-license]\n",
    "%pip install ale-py     # critical for rendering Atari screens"
   ]
  },
  {
   "cell_type": "code",
   "execution_count": 6,
   "metadata": {
    "id": "NmQwkZFTJdfI"
   },
   "outputs": [],
   "source": [
    "# First import the ALE\n",
    "from ale_py import ALEInterface\n",
    "\n",
    "ale = ALEInterface()"
   ]
  },
  {
   "cell_type": "markdown",
   "metadata": {
    "id": "z6vuWHIX54i8"
   },
   "source": [
    "### 3. Preliminary step to inspect states and rendering"
   ]
  },
  {
   "cell_type": "code",
   "execution_count": 7,
   "metadata": {
    "colab": {
     "base_uri": "https://localhost:8080/",
     "height": 245
    },
    "id": "Wt0wvOVJL6YS",
    "outputId": "9ea98249-2bac-4f89-d189-a5ec2bcccf08"
   },
   "outputs": [
    {
     "name": "stdout",
     "output_type": "stream",
     "text": [
      "action_space=4, observation_space=(210, 160, 3)\n"
     ]
    },
    {
     "data": {
      "image/jpeg": "[encoded data removed]",
      "image/png": "[encoded data removed]",
      "text/plain": [
       "<PIL.Image.Image image mode=RGB size=160x210>"
      ]
     },
     "execution_count": 7,
     "metadata": {},
     "output_type": "execute_result"
    }
   ],
   "source": [
    "import gymnasium as gym\n",
    "\n",
    "env = gym.make(\"ALE/Breakout-v5\", render_mode='rgb_array', full_action_space=False)\n",
    "\n",
    "# Various information about the environment\n",
    "print (\"action_space={}, observation_space={}\".format(env.action_space.n, env.observation_space.shape))\n",
    "\n",
    "observation = env.reset() # initial state/observation returned\n",
    "#print (observation[0][180])\n",
    "env.step(1) ## FIRE!\n",
    "\n",
    "#env.render()  # returns an array of (210, 160, 3), each in the range [0-255]\n",
    "Image.fromarray(env.render())"
   ]
  },
  {
   "cell_type": "markdown",
   "metadata": {
    "id": "kwXKNPm27fdq"
   },
   "source": [
    "## 4. Install tensorflow"
   ]
  },
  {
   "cell_type": "code",
   "execution_count": 8,
   "metadata": {
    "colab": {
     "base_uri": "https://localhost:8080/",
     "height": 718
    },
    "id": "SikAGntMtYO8",
    "outputId": "73b52192-b028-457d-aa24-d13ae51bb32c"
   },
   "outputs": [
    {
     "name": "stdout",
     "output_type": "stream",
     "text": [
      "Requirement already satisfied: tensorflow in /usr/local/lib/python3.11/dist-packages (2.18.0)\n",
      "Requirement already satisfied: absl-py>=1.0.0 in /usr/local/lib/python3.11/dist-packages (from tensorflow) (1.4.0)\n",
      "Requirement already satisfied: astunparse>=1.6.0 in /usr/local/lib/python3.11/dist-packages (from tensorflow) (1.6.3)\n",
      "Requirement already satisfied: flatbuffers>=24.3.25 in /usr/local/lib/python3.11/dist-packages (from tensorflow) (25.1.24)\n",
      "Requirement already satisfied: gast!=0.5.0,!=0.5.1,!=0.5.2,>=0.2.1 in /usr/local/lib/python3.11/dist-packages (from tensorflow) (0.6.0)\n",
      "Requirement already satisfied: google-pasta>=0.1.1 in /usr/local/lib/python3.11/dist-packages (from tensorflow) (0.2.0)\n",
      "Requirement already satisfied: libclang>=13.0.0 in /usr/local/lib/python3.11/dist-packages (from tensorflow) (18.1.1)\n",
      "Requirement already satisfied: opt-einsum>=2.3.2 in /usr/local/lib/python3.11/dist-packages (from tensorflow) (3.4.0)\n",
      "Requirement already satisfied: packaging in /usr/local/lib/python3.11/dist-packages (from tensorflow) (24.2)\n",
      "Requirement already satisfied: protobuf!=4.21.0,!=4.21.1,!=4.21.2,!=4.21.3,!=4.21.4,!=4.21.5,<6.0.0dev,>=3.20.3 in /usr/local/lib/python3.11/dist-packages (from tensorflow) (4.25.6)\n",
      "Requirement already satisfied: requests<3,>=2.21.0 in /usr/local/lib/python3.11/dist-packages (from tensorflow) (2.32.3)\n",
      "Requirement already satisfied: setuptools in /usr/local/lib/python3.11/dist-packages (from tensorflow) (75.1.0)\n",
      "Requirement already satisfied: six>=1.12.0 in /usr/local/lib/python3.11/dist-packages (from tensorflow) (1.17.0)\n",
      "Requirement already satisfied: termcolor>=1.1.0 in /usr/local/lib/python3.11/dist-packages (from tensorflow) (2.5.0)\n",
      "Requirement already satisfied: typing-extensions>=3.6.6 in /usr/local/lib/python3.11/dist-packages (from tensorflow) (4.12.2)\n",
      "Requirement already satisfied: wrapt>=1.11.0 in /usr/local/lib/python3.11/dist-packages (from tensorflow) (1.17.2)\n",
      "Requirement already satisfied: grpcio<2.0,>=1.24.3 in /usr/local/lib/python3.11/dist-packages (from tensorflow) (1.70.0)\n",
      "Requirement already satisfied: tensorboard<2.19,>=2.18 in /usr/local/lib/python3.11/dist-packages (from tensorflow) (2.18.0)\n",
      "Requirement already satisfied: keras>=3.5.0 in /usr/local/lib/python3.11/dist-packages (from tensorflow) (3.8.0)\n",
      "Requirement already satisfied: numpy<2.1.0,>=1.26.0 in /usr/local/lib/python3.11/dist-packages (from tensorflow) (1.26.4)\n",
      "Requirement already satisfied: h5py>=3.11.0 in /usr/local/lib/python3.11/dist-packages (from tensorflow) (3.12.1)\n",
      "Requirement already satisfied: ml-dtypes<0.5.0,>=0.4.0 in /usr/local/lib/python3.11/dist-packages (from tensorflow) (0.4.1)\n",
      "Requirement already satisfied: tensorflow-io-gcs-filesystem>=0.23.1 in /usr/local/lib/python3.11/dist-packages (from tensorflow) (0.37.1)\n",
      "Requirement already satisfied: wheel<1.0,>=0.23.0 in /usr/local/lib/python3.11/dist-packages (from astunparse>=1.6.0->tensorflow) (0.45.1)\n",
      "Requirement already satisfied: rich in /usr/local/lib/python3.11/dist-packages (from keras>=3.5.0->tensorflow) (13.9.4)\n",
      "Requirement already satisfied: namex in /usr/local/lib/python3.11/dist-packages (from keras>=3.5.0->tensorflow) (0.0.8)\n",
      "Requirement already satisfied: optree in /usr/local/lib/python3.11/dist-packages (from keras>=3.5.0->tensorflow) (0.14.0)\n",
      "Requirement already satisfied: charset-normalizer<4,>=2 in /usr/local/lib/python3.11/dist-packages (from requests<3,>=2.21.0->tensorflow) (3.4.1)\n",
      "Requirement already satisfied: idna<4,>=2.5 in /usr/local/lib/python3.11/dist-packages (from requests<3,>=2.21.0->tensorflow) (3.10)\n",
      "Requirement already satisfied: urllib3<3,>=1.21.1 in /usr/local/lib/python3.11/dist-packages (from requests<3,>=2.21.0->tensorflow) (2.3.0)\n",
      "Requirement already satisfied: certifi>=2017.4.17 in /usr/local/lib/python3.11/dist-packages (from requests<3,>=2.21.0->tensorflow) (2025.1.31)\n",
      "Requirement already satisfied: markdown>=2.6.8 in /usr/local/lib/python3.11/dist-packages (from tensorboard<2.19,>=2.18->tensorflow) (3.7)\n",
      "Requirement already satisfied: tensorboard-data-server<0.8.0,>=0.7.0 in /usr/local/lib/python3.11/dist-packages (from tensorboard<2.19,>=2.18->tensorflow) (0.7.2)\n",
      "Requirement already satisfied: werkzeug>=1.0.1 in /usr/local/lib/python3.11/dist-packages (from tensorboard<2.19,>=2.18->tensorflow) (3.1.3)\n",
      "Requirement already satisfied: MarkupSafe>=2.1.1 in /usr/local/lib/python3.11/dist-packages (from werkzeug>=1.0.1->tensorboard<2.19,>=2.18->tensorflow) (3.0.2)\n",
      "Requirement already satisfied: markdown-it-py>=2.2.0 in /usr/local/lib/python3.11/dist-packages (from rich->keras>=3.5.0->tensorflow) (3.0.0)\n",
      "Requirement already satisfied: pygments<3.0.0,>=2.13.0 in /usr/local/lib/python3.11/dist-packages (from rich->keras>=3.5.0->tensorflow) (2.18.0)\n",
      "Requirement already satisfied: mdurl~=0.1 in /usr/local/lib/python3.11/dist-packages (from markdown-it-py>=2.2.0->rich->keras>=3.5.0->tensorflow) (0.1.2)\n"
     ]
    },
    {
     "data": {
      "application/vnd.google.colaboratory.intrinsic+json": {
       "type": "string"
      },
      "text/plain": [
       "'2.18.0'"
      ]
     },
     "execution_count": 8,
     "metadata": {},
     "output_type": "execute_result"
    }
   ],
   "source": [
    "%pip install tensorflow\n",
    "\n",
    "import tensorflow as tf\n",
    "from tensorflow import keras\n",
    "tf.__version__"
   ]
  },
  {
   "cell_type": "markdown",
   "metadata": {
    "id": "w6u4JD8LHqFp"
   },
   "source": [
    "### (*) Image/frame preprocessing -- cropping, resizing and grayscale"
   ]
  },
  {
   "cell_type": "markdown",
   "metadata": {
    "id": "fSyZlr3-8mFm"
   },
   "source": [
    "[from https://towardsdatascience.com/getting-an-ai-to-play-atari-pong-with-deep-reinforcement-learning-47b0c56e78ae]<br>\n",
    "Currently, the frames received from openai are much larger than we need, with a much higher resolution than we need.  We don’t need any of the white space at the bottom, or any pixel above the white stripe at the top.\n",
    "\n",
    "So we first crop the image so that only the important area is displayed. Next, we convert the image to grayscale if desired. Finally we convert the image datatype to np.uint8 (to save space than regular int)."
   ]
  },
  {
   "cell_type": "code",
   "execution_count": 9,
   "metadata": {
    "id": "zTbj4MdF8j90"
   },
   "outputs": [],
   "source": [
    "import numpy as np\n",
    "\n",
    "def crop_Atari_frame(frame):\n",
    "    return frame[30:-12,5:-4]  # crop out irrelevant parts in the frame/image\n",
    "\n",
    "def resize_and_gray(frame, newsize, gray = False):\n",
    "    \"\"\" converts the frame/image array, possibly reduce to the gray scale,\n",
    "        then resizes to the new size.\n",
    "    \"\"\"\n",
    "    frame = crop_Atari_frame(frame)       # first crop the frame/array\n",
    "    im = Image.fromarray(np.uint8(frame)) # convert the array to a PIL image\n",
    "    if gray:\n",
    "      im = ImageOps.grayscale(im)  # convert to grayscale using PIL ImageOps\n",
    "\n",
    "    im = im.resize(newsize)  # resize the PIL image to the desired size\n",
    "    return np.array(im, dtype = np.uint8) # convert back to an np array\n"
   ]
  },
  {
   "cell_type": "code",
   "execution_count": 10,
   "metadata": {
    "colab": {
     "base_uri": "https://localhost:8080/",
     "height": 469
    },
    "id": "ccIaltxgzs_T",
    "outputId": "a70c6f56-24b0-4543-e19c-7743574b5f94"
   },
   "outputs": [
    {
     "name": "stdout",
     "output_type": "stream",
     "text": [
      "Image shape: (84, 84, 3)\n"
     ]
    },
    {
     "data": {
      "text/plain": [
       "<matplotlib.image.AxesImage at 0x78b42f093810>"
      ]
     },
     "execution_count": 10,
     "metadata": {},
     "output_type": "execute_result"
    },
    {
     "data": {
      "image/png": "[encoded data removed]",
      "text/plain": [
       "<Figure size 640x480 with 1 Axes>"
      ]
     },
     "metadata": {},
     "output_type": "display_data"
    }
   ],
   "source": [
    "import gymnasium as gym\n",
    "import matplotlib.pyplot as plt\n",
    "\n",
    "env = gym.make(\"ALE/Breakout-v5\", render_mode='rgb_array', full_action_space=False)\n",
    "state = env.reset()\n",
    "env.step(1)\n",
    "\n",
    "newsize = (84, 84)  # reduced, new size!!\n",
    "\n",
    "## convert the frame to a smaller color image\n",
    "first_frame = resize_and_gray(state[0], newsize)  # new size, but still in color\n",
    "print (\"Image shape: {}\".format(first_frame.shape))\n",
    "plt.imshow(first_frame)"
   ]
  },
  {
   "cell_type": "code",
   "execution_count": 11,
   "metadata": {
    "colab": {
     "base_uri": "https://localhost:8080/",
     "height": 469
    },
    "id": "zKQRSWDPQS2x",
    "outputId": "3d5e6c2a-b4c2-42ae-a289-3292a5105bd3"
   },
   "outputs": [
    {
     "name": "stdout",
     "output_type": "stream",
     "text": [
      "Image shape: (84, 84)\n"
     ]
    },
    {
     "data": {
      "text/plain": [
       "<matplotlib.image.AxesImage at 0x78b42e7b81d0>"
      ]
     },
     "execution_count": 11,
     "metadata": {},
     "output_type": "execute_result"
    },
    {
     "data": {
      "image/png": "[encoded data removed]",
      "text/plain": [
       "<Figure size 640x480 with 1 Axes>"
      ]
     },
     "metadata": {},
     "output_type": "display_data"
    }
   ],
   "source": [
    "## convert the frame to a smaller grayscale image\n",
    "first_frame = resize_and_gray(state[0], newsize, True) # new size, in grayscale\n",
    "print (\"Image shape: {}\".format(first_frame.shape))\n",
    "plt.imshow(first_frame)"
   ]
  },
  {
   "cell_type": "markdown",
   "metadata": {
    "id": "Ok8wXdEfEsZT"
   },
   "source": [
    "## 5. Define QNetwork and Memory"
   ]
  },
  {
   "cell_type": "code",
   "execution_count": 12,
   "metadata": {
    "id": "701uaU0FlTzC"
   },
   "outputs": [],
   "source": [
    "from tensorflow.keras import layers\n",
    "from collections import deque\n",
    "\n",
    "class QNetwork:\n",
    "    def __init__(self, input_shape=(84, 84, 3), action_size=4, hidden_size=126,\n",
    "                 learning_rate = 0.001):\n",
    "        # First fix up input_shape in case it is a 2D grayscale image\n",
    "        if len(input_shape) < 3:\n",
    "            input_shape = (input_shape[0], input_shape[1], 1)\n",
    "        print ('input_shape = {}'.format(input_shape))\n",
    "\n",
    "        # Model in the original Deepmind DQN paper (but reduced to assume one frame)\n",
    "        self.model = keras.Sequential()\n",
    "        self.model.add(layers.Conv2D(32, 8, strides=4, activation=\"relu\",\n",
    "                                    input_shape=input_shape))\n",
    "        self.model.add(layers.Conv2D(64, 4, strides=2, activation=\"relu\"))\n",
    "        self.model.add(layers.Conv2D(64, 3, strides=1, activation=\"relu\"))\n",
    "        self.model.add(layers.Flatten())\n",
    "        self.model.add(layers.Dense(hidden_size, activation=\"relu\"))\n",
    "        self.model.add(layers.Dense(action_size, activation=\"linear\"))\n",
    "\n",
    "        # other compile parameters\n",
    "        self.optimizer = keras.optimizers.RMSprop(learning_rate=learning_rate)\n",
    "        self.model.compile(loss=keras.losses.Huber(), optimizer=self.optimizer)\n",
    "\n",
    "\n",
    "class Memory():\n",
    "    \"\"\" Replay memory \"\"\"\n",
    "    def __init__(self, max_size=1000):\n",
    "        self.buffer = deque(maxlen=max_size)\n",
    "\n",
    "    def add(self, experience):\n",
    "        self.buffer.append(experience)\n",
    "\n",
    "    def sample(self, batch_size):\n",
    "        idx = np.random.choice(np.arange(len(self.buffer)),\n",
    "                               size=batch_size,\n",
    "                               replace=False)\n",
    "        return [self.buffer[ii] for ii in idx]\n",
    "\n",
    "    def __len__(self):\n",
    "        return len(self.buffer)"
   ]
  },
  {
   "cell_type": "markdown",
   "metadata": {
    "id": "_H8GXhXMlBKl"
   },
   "source": [
    "### 6. Fill the Memory with episode steps"
   ]
  },
  {
   "cell_type": "code",
   "execution_count": 13,
   "metadata": {
    "colab": {
     "base_uri": "https://localhost:8080/"
    },
    "id": "_t2sSFk5dXJc",
    "outputId": "635424b0-10a6-4d48-d7cd-1b0faa8ea074"
   },
   "outputs": [
    {
     "name": "stdout",
     "output_type": "stream",
     "text": [
      "* Populate the experience memory with 100 steps *\n",
      "Done!\n"
     ]
    }
   ],
   "source": [
    "###################################\n",
    "## Populate the experience memory\n",
    "###################################\n",
    "\n",
    "# Newly create the Atari Breakout game environment\n",
    "env = gym.make(\"ALE/Breakout-v5\", render_mode='rgb_array', full_action_space=False)\n",
    "newsize = (84, 84)\n",
    "grayscale = False\n",
    "\n",
    "# Memory parameters\n",
    "memory_size = 10000            # memory capacity\n",
    "batch_size = 16                # experience mini-batch size\n",
    "pretrain_length = batch_size   # number experiences to pretrain the memory\n",
    "\n",
    "INIT_MEMORY = 100\n",
    "\n",
    "memory = Memory(max_size=memory_size)\n",
    "\n",
    "#----------------\n",
    "print (\"* Populate the experience memory with {} steps *\".format(INIT_MEMORY))\n",
    "\n",
    "# Initialize the simulation\n",
    "observation = env.reset()\n",
    "state = resize_and_gray(observation[0], newsize)\n",
    "\n",
    "# Make a bunch of random actions and store the experiences\n",
    "for _ in range(INIT_MEMORY):\n",
    "    # render commented since it doesn't work well on CoLab without video\n",
    "    #env.render()\n",
    "\n",
    "    # Make a/one random action\n",
    "    action = env.action_space.sample()\n",
    "    # take the action\n",
    "    next_state, reward, done, info, _ = env.step(action)\n",
    "\n",
    "    # resize the image of next_state\n",
    "    next_state = resize_and_gray(next_state, newsize, grayscale)\n",
    "\n",
    "    # Add experience (a four-tuple) to memory.\n",
    "    # (**) Keras predict processes a batch, so when you're using a single\n",
    "    #  image, you need to add it to a list (by expanding the row dimension):\n",
    "    memory.add((np.expand_dims(state, axis=0), action, reward,\n",
    "                np.expand_dims(next_state, axis=0), done))\n",
    "\n",
    "    if done:\n",
    "        # Start a new episode\n",
    "        env.reset()\n",
    "        # Take one random step to get started\n",
    "        state, reward, done, info = env.step(env.action_space.sample())\n",
    "        state = resize_and_gray(state, newsize, grayscale)\n",
    "    else:\n",
    "        # go to the next state\n",
    "        state = next_state\n",
    "\n",
    "print (\"Done!\")"
   ]
  },
  {
   "cell_type": "markdown",
   "metadata": {
    "id": "kecwdBSDTo6B"
   },
   "source": [
    "## 7. Create DQN networks ('model_pred', which utilizes 'model_target') as Agent"
   ]
  },
  {
   "cell_type": "code",
   "execution_count": 14,
   "metadata": {
    "colab": {
     "base_uri": "https://localhost:8080/"
    },
    "id": "AIhtfJI521lg",
    "outputId": "7f465e71-4419-400c-f693-36f7da0d7e04"
   },
   "outputs": [
    {
     "name": "stdout",
     "output_type": "stream",
     "text": [
      "input_shape = (84, 84, 3)\n"
     ]
    },
    {
     "name": "stderr",
     "output_type": "stream",
     "text": [
      "/usr/local/lib/python3.11/dist-packages/keras/src/layers/convolutional/base_conv.py:107: UserWarning: Do not pass an `input_shape`/`input_dim` argument to a layer. When using Sequential models, prefer using an `Input(shape)` object as the first layer in the model instead.\n",
      "  super().__init__(activity_regularizer=activity_regularizer, **kwargs)\n"
     ]
    },
    {
     "name": "stdout",
     "output_type": "stream",
     "text": [
      "input_shape = (84, 84, 3)\n"
     ]
    }
   ],
   "source": [
    "# The first model makes the predictions for Q-values which are used to\n",
    "# make a action.\n",
    "image_shape = (memory.buffer[0][0][0]).shape\n",
    "num_actions = env.action_space.n\n",
    "\n",
    "model_pred = QNetwork(input_shape = image_shape, action_size = num_actions,\n",
    "                      hidden_size=126)\n",
    "\n",
    "# Build a target model for the prediction of future rewards.\n",
    "# The weights of a target model get updated every 1000 steps thus when the\n",
    "# loss between the Q-values is calculated the target Q-value is stable.\n",
    "model_target = QNetwork(input_shape = image_shape, action_size = num_actions,\n",
    "                        hidden_size=126)"
   ]
  },
  {
   "cell_type": "markdown",
   "metadata": {
    "id": "nBwS5h2lGS3G"
   },
   "source": [
    "Some code to inspect memory, states etc."
   ]
  },
  {
   "cell_type": "code",
   "execution_count": 15,
   "metadata": {
    "colab": {
     "base_uri": "https://localhost:8080/",
     "height": 469
    },
    "id": "DgPuCllRTsSf",
    "outputId": "4503f7ea-67ab-4801-de4a-6f1820e77314"
   },
   "outputs": [
    {
     "name": "stdout",
     "output_type": "stream",
     "text": [
      "(1, 84, 84, 3)\n"
     ]
    },
    {
     "data": {
      "text/plain": [
       "<matplotlib.image.AxesImage at 0x78b42e7e5850>"
      ]
     },
     "execution_count": 15,
     "metadata": {},
     "output_type": "execute_result"
    },
    {
     "data": {
      "image/png": "[encoded data removed]",
      "text/plain": [
       "<Figure size 640x480 with 1 Axes>"
      ]
     },
     "metadata": {},
     "output_type": "display_data"
    }
   ],
   "source": [
    "frame = memory.sample(1)[0]\n",
    "frame_state = frame[0]      # 1st element in the four tuple\n",
    "print(frame_state.shape)    # still in a batch of one\n",
    "\n",
    "plt.imshow(frame_state[0])  # show only the image"
   ]
  },
  {
   "cell_type": "markdown",
   "metadata": {
    "id": "xChKHFTbIXQj"
   },
   "source": [
    "(**) Convert the image into range \\[0, 1\\], then call 'predict' in model_pred.model"
   ]
  },
  {
   "cell_type": "code",
   "execution_count": 16,
   "metadata": {
    "colab": {
     "base_uri": "https://localhost:8080/"
    },
    "id": "tXhP_2XJZhJX",
    "outputId": "50485394-ba0f-4e86-b5bd-803f29889814"
   },
   "outputs": [
    {
     "name": "stdout",
     "output_type": "stream",
     "text": [
      "\u001b[1m1/1\u001b[0m \u001b[32m━━━━━━━━━━━━━━━━━━━━\u001b[0m\u001b[37m\u001b[0m \u001b[1m2s\u001b[0m 2s/step\n",
      "[-0.01018261 -0.03667003  0.00377788  0.02124413]\n"
     ]
    }
   ],
   "source": [
    "# convert values of the image into range [0, 1]\n",
    "frame_state = frame_state / 255.0\n",
    "\n",
    "# Now make predictions (for all actions)\n",
    "predictions = model_pred.model.predict(frame_state)\n",
    "print (predictions[0])  # [0] because there is only one result in predictions"
   ]
  },
  {
   "cell_type": "markdown",
   "metadata": {
    "id": "0XEzkj4fIv8l"
   },
   "source": [
    "# 8. Your Training Code goes here!!!"
   ]
  },
  {
   "cell_type": "code",
   "execution_count": 16,
   "metadata": {
    "id": "PMOTecsUI5rO"
   },
   "outputs": [],
   "source": []
  },
  {
   "cell_type": "markdown",
   "metadata": {
    "id": "kiHPa3SaGcW9"
   },
   "source": [
    "## 9. Try out the learned policy!!\n",
    "\n",
    "Utility functions related to video"
   ]
  },
  {
   "cell_type": "code",
   "execution_count": 17,
   "metadata": {
    "id": "b8xfm4xN1hy7"
   },
   "outputs": [],
   "source": [
    "from gym import logger as gymlogger\n",
    "from gym.wrappers.record_video import RecordVideo\n",
    "gymlogger.set_level(40) #error only\n",
    "import glob\n",
    "import io\n",
    "from IPython import display as ipythondisplay\n",
    "from IPython.display import HTML\n",
    "\n",
    "\"\"\"\n",
    "Utility functions to enable video recording of gym environment and displaying it\n",
    "To enable video, just do \"env = wrap_env(env)\"\"\n",
    "\"\"\"\n",
    "\n",
    "def show_video():\n",
    "  mp4list = glob.glob('video/*.mp4')\n",
    "  if len(mp4list) > 0:\n",
    "    mp4 = mp4list[0]\n",
    "    video = io.open(mp4, 'r+b').read()\n",
    "    encoded = base64.b64encode(video)\n",
    "    ipythondisplay.display(HTML(data='''<video alt=\"test\" autoplay\n",
    "                loop controls style=\"height: 400px;\">\n",
    "                <source src=\"data:video/mp4;base64,{0}\" type=\"video/mp4\" />\n",
    "             </video>'''.format(encoded.decode('ascii'))))\n",
    "  else:\n",
    "    print(\"Could not find video\")\n",
    "\n",
    "def wrap_env(env):\n",
    "  env = RecordVideo(env, './video',  episode_trigger = lambda episode_number: True)\n",
    "  return env"
   ]
  },
  {
   "cell_type": "markdown",
   "metadata": {
    "id": "cbt8_dHJGmou"
   },
   "source": [
    "(**)"
   ]
  },
  {
   "cell_type": "code",
   "execution_count": 18,
   "metadata": {
    "colab": {
     "base_uri": "https://localhost:8080/",
     "height": 477
    },
    "id": "MeQBvVZzbJv1",
    "outputId": "4b13d85c-6465-4d55-eecb-a81423013daa"
   },
   "outputs": [
    {
     "name": "stderr",
     "output_type": "stream",
     "text": [
      "/usr/local/lib/python3.11/dist-packages/ipykernel/ipkernel.py:283: DeprecationWarning: `should_run_async` will not call `transform_cell` automatically in the future. Please pass the result to `transformed_cell` argument and any exception that happen during thetransform in `preprocessing_exc_tuple` in IPython 7.17 and above.\n",
      "  and should_run_async(code)\n"
     ]
    },
    {
     "data": {
      "text/html": [
       "<video alt=\"test\" autoplay\n",
       "                loop controls style=\"height: 400px;\">\n",
       "                <source src=\"data:video/mp4;base64,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\" type=\"video/mp4\" />\n",
       "             </video>"
      ],
      "text/plain": [
       "<IPython.core.display.HTML object>"
      ]
     },
     "metadata": {},
     "output_type": "display_data"
    }
   ],
   "source": [
    "# First wrap the enviroment in a video-recording environment\n",
    "env = wrap_env(env)\n",
    "\n",
    "num_episodes = 1\n",
    "total_score = 0\n",
    "\n",
    "newsize = (84, 84)\n",
    "\n",
    "for _ in range(num_episodes):\n",
    "    # for each episode\n",
    "    observation = env.reset()\n",
    "    state = resize_and_gray(observation[0], newsize)\n",
    "    done = False\n",
    "    score = 0\n",
    "\n",
    "    #while not done:\n",
    "    for i in range(50):\n",
    "        if i % 4 == 0:\n",
    "          env.render()\n",
    "\n",
    "        # Get action from the model_pred\n",
    "        state = state / 255.0\n",
    "        predictions = model_pred.model.predict(np.expand_dims(state, axis=0), verbose=0)[0]\n",
    "        max_indices = np.where(predictions == np.max(predictions))[0]  # indices of max values\n",
    "        action = np.random.choice(max_indices)  # break the ties randomly\n",
    "\n",
    "        #action = np.argmax()\n",
    "\n",
    "        # take the action\n",
    "        next_state, reward, done, info = env.step(action)\n",
    "        next_state = resize_and_gray(next_state, newsize, grayscale)\n",
    "\n",
    "        score += reward\n",
    "        state = next_state\n",
    "\n",
    "env.close()\n",
    "show_video()"
   ]
  },
  {
   "cell_type": "code",
   "execution_count": 18,
   "metadata": {
    "colab": {
     "base_uri": "https://localhost:8080/"
    },
    "id": "9isvZx6b7xWl",
    "outputId": "264f5c36-089d-436b-905a-78e980467ab1"
   },
   "outputs": [
    {
     "name": "stderr",
     "output_type": "stream",
     "text": [
      "/usr/local/lib/python3.11/dist-packages/ipykernel/ipkernel.py:283: DeprecationWarning: `should_run_async` will not call `transform_cell` automatically in the future. Please pass the result to `transformed_cell` argument and any exception that happen during thetransform in `preprocessing_exc_tuple` in IPython 7.17 and above.\n",
      "  and should_run_async(code)\n"
     ]
    }
   ],
   "source": []
  }
 ],
 "metadata": {
  "accelerator": "GPU",
  "colab": {
   "gpuClass": "premium",
   "machine_shape": "hm",
   "provenance": []
  },
  "gpuClass": "premium",
  "kernelspec": {
   "display_name": "Python 3 (ipykernel)",
   "language": "python",
   "name": "python3"
  },
  "language_info": {
   "codemirror_mode": {
    "name": "ipython",
    "version": 3
   },
   "file_extension": ".py",
   "mimetype": "text/x-python",
   "name": "python",
   "nbconvert_exporter": "python",
   "pygments_lexer": "ipython3",
   "version": "3.12.7"
  }
 },
 "nbformat": 4,
 "nbformat_minor": 4
}
