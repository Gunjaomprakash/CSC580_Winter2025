{
 "cells": [
  {
   "cell_type": "markdown",
   "id": "20edd000",
   "metadata": {
    "id": "20edd000"
   },
   "source": [
    "# CSC 580 Artificial Intelligence II, Winter 2025\n",
    "\n",
    "# HW\\#2 Cliffwalk -- Start-up code\n"
   ]
  },
  {
   "cell_type": "markdown",
   "id": "K1HJ3taMYskB",
   "metadata": {
    "id": "K1HJ3taMYskB"
   },
   "source": [
    "### 1. Install gymnasium and create a Cliff Walk environment\n"
   ]
  },
  {
   "cell_type": "code",
   "execution_count": 1,
   "id": "5c98cefb",
   "metadata": {},
   "outputs": [
    {
     "name": "stdout",
     "output_type": "stream",
     "text": [
      "Requirement already satisfied: gymnasium[toy-text] in /Users/omprakashgunja/Documents/Classes/Winter 2025/AI 2.0/CSC580_Winter2025/.venv/lib/python3.9/site-packages (1.0.0)\n",
      "Requirement already satisfied: numpy>=1.21.0 in /Users/omprakashgunja/Documents/Classes/Winter 2025/AI 2.0/CSC580_Winter2025/.venv/lib/python3.9/site-packages (from gymnasium[toy-text]) (2.0.2)\n",
      "Requirement already satisfied: cloudpickle>=1.2.0 in /Users/omprakashgunja/Documents/Classes/Winter 2025/AI 2.0/CSC580_Winter2025/.venv/lib/python3.9/site-packages (from gymnasium[toy-text]) (3.1.1)\n",
      "Requirement already satisfied: typing-extensions>=4.3.0 in /Users/omprakashgunja/Documents/Classes/Winter 2025/AI 2.0/CSC580_Winter2025/.venv/lib/python3.9/site-packages (from gymnasium[toy-text]) (4.12.2)\n",
      "Requirement already satisfied: farama-notifications>=0.0.1 in /Users/omprakashgunja/Documents/Classes/Winter 2025/AI 2.0/CSC580_Winter2025/.venv/lib/python3.9/site-packages (from gymnasium[toy-text]) (0.0.4)\n",
      "Requirement already satisfied: importlib-metadata>=4.8.0 in /Users/omprakashgunja/Documents/Classes/Winter 2025/AI 2.0/CSC580_Winter2025/.venv/lib/python3.9/site-packages (from gymnasium[toy-text]) (8.6.1)\n",
      "Requirement already satisfied: pygame>=2.1.3 in /Users/omprakashgunja/Documents/Classes/Winter 2025/AI 2.0/CSC580_Winter2025/.venv/lib/python3.9/site-packages (from gymnasium[toy-text]) (2.6.1)\n",
      "Requirement already satisfied: zipp>=3.20 in /Users/omprakashgunja/Documents/Classes/Winter 2025/AI 2.0/CSC580_Winter2025/.venv/lib/python3.9/site-packages (from importlib-metadata>=4.8.0->gymnasium[toy-text]) (3.21.0)\n",
      "Note: you may need to restart the kernel to use updated packages.\n"
     ]
    }
   ],
   "source": [
    "%pip install \"gymnasium[toy-text]\""
   ]
  },
  {
   "cell_type": "code",
   "execution_count": 3,
   "id": "947ae2bd",
   "metadata": {},
   "outputs": [
    {
     "data": {
      "text/plain": [
       "array([[[ 91, 150,  97],\n",
       "        [ 91, 150,  97],\n",
       "        [ 91, 150,  97],\n",
       "        ...,\n",
       "        [ 86, 170,  69],\n",
       "        [ 86, 170,  69],\n",
       "        [ 86, 170,  69]],\n",
       "\n",
       "       [[ 91, 150,  97],\n",
       "        [ 91, 150,  97],\n",
       "        [ 91, 150,  97],\n",
       "        ...,\n",
       "        [ 86, 170,  69],\n",
       "        [ 86, 170,  69],\n",
       "        [ 86, 170,  69]],\n",
       "\n",
       "       [[ 91, 150,  97],\n",
       "        [ 91, 150,  97],\n",
       "        [ 98, 166, 105],\n",
       "        ...,\n",
       "        [105, 182,  74],\n",
       "        [105, 182,  74],\n",
       "        [ 86, 170,  69]],\n",
       "\n",
       "       ...,\n",
       "\n",
       "       [[ 86, 170,  69],\n",
       "        [ 86, 170,  69],\n",
       "        [ 93, 188,  74],\n",
       "        ...,\n",
       "        [ 91, 150,  97],\n",
       "        [ 91, 150,  97],\n",
       "        [ 91, 150,  97]],\n",
       "\n",
       "       [[ 86, 170,  69],\n",
       "        [ 86, 170,  69],\n",
       "        [ 93, 188,  74],\n",
       "        ...,\n",
       "        [ 91, 150,  97],\n",
       "        [ 91, 150,  97],\n",
       "        [ 91, 150,  97]],\n",
       "\n",
       "       [[ 86, 170,  69],\n",
       "        [ 86, 170,  69],\n",
       "        [ 86, 170,  69],\n",
       "        ...,\n",
       "        [ 91, 150,  97],\n",
       "        [ 91, 150,  97],\n",
       "        [ 91, 150,  97]]], dtype=uint8)"
      ]
     },
     "execution_count": 3,
     "metadata": {},
     "output_type": "execute_result"
    }
   ],
   "source": [
    "import gymnasium as gym\n",
    "import matplotlib.pyplot as plt\n",
    "import numpy as np\n",
    "\n",
    "env = gym.make(\"CliffWalking-v0\", is_slippery=True, render_mode=\"rgb_array\")\n",
    "env.reset()\n",
    "\n",
    "env.render( )  # Get the current frame as an RGB array\n"
   ]
  },
  {
   "cell_type": "code",
   "execution_count": 4,
   "id": "195ba04d",
   "metadata": {
    "colab": {
     "base_uri": "https://localhost:8080/",
     "height": 280
    },
    "id": "195ba04d",
    "outputId": "60308985-bc87-4eea-8e19-88272dc03271"
   },
   "outputs": [
    {
     "data": {
      "text/plain": [
       "array([[[ 91, 150,  97],\n",
       "        [ 91, 150,  97],\n",
       "        [ 91, 150,  97],\n",
       "        ...,\n",
       "        [ 86, 170,  69],\n",
       "        [ 86, 170,  69],\n",
       "        [ 86, 170,  69]],\n",
       "\n",
       "       [[ 91, 150,  97],\n",
       "        [ 91, 150,  97],\n",
       "        [ 91, 150,  97],\n",
       "        ...,\n",
       "        [ 86, 170,  69],\n",
       "        [ 86, 170,  69],\n",
       "        [ 86, 170,  69]],\n",
       "\n",
       "       [[ 91, 150,  97],\n",
       "        [ 91, 150,  97],\n",
       "        [ 98, 166, 105],\n",
       "        ...,\n",
       "        [105, 182,  74],\n",
       "        [105, 182,  74],\n",
       "        [ 86, 170,  69]],\n",
       "\n",
       "       ...,\n",
       "\n",
       "       [[ 86, 170,  69],\n",
       "        [ 86, 170,  69],\n",
       "        [ 93, 188,  74],\n",
       "        ...,\n",
       "        [ 91, 150,  97],\n",
       "        [ 91, 150,  97],\n",
       "        [ 91, 150,  97]],\n",
       "\n",
       "       [[ 86, 170,  69],\n",
       "        [ 86, 170,  69],\n",
       "        [ 93, 188,  74],\n",
       "        ...,\n",
       "        [ 91, 150,  97],\n",
       "        [ 91, 150,  97],\n",
       "        [ 91, 150,  97]],\n",
       "\n",
       "       [[ 86, 170,  69],\n",
       "        [ 86, 170,  69],\n",
       "        [ 86, 170,  69],\n",
       "        ...,\n",
       "        [ 91, 150,  97],\n",
       "        [ 91, 150,  97],\n",
       "        [ 91, 150,  97]]], dtype=uint8)"
      ]
     },
     "execution_count": 4,
     "metadata": {},
     "output_type": "execute_result"
    }
   ],
   "source": [
    "\n",
    "#print (env.render())  # textual output if mode == 'ansi' or 'human'\n",
    "env.render() # gui/rgb output"
   ]
  },
  {
   "cell_type": "markdown",
   "id": "e9FEBDeuxicz",
   "metadata": {
    "id": "e9FEBDeuxicz"
   },
   "source": [
    "### 2. Inspect environment, transition probabilities and rewards\n"
   ]
  },
  {
   "cell_type": "code",
   "execution_count": 5,
   "id": "40d9fc3b",
   "metadata": {
    "colab": {
     "base_uri": "https://localhost:8080/"
    },
    "id": "40d9fc3b",
    "outputId": "b3cdc17d-63c5-4944-d4a9-39c39bd7671c"
   },
   "outputs": [
    {
     "name": "stdout",
     "output_type": "stream",
     "text": [
      "48, 4\n"
     ]
    }
   ],
   "source": [
    "nS = env.observation_space.n    # number of states -- 48\n",
    "nA = env.action_space.n         # number of actions -- four directions; 0:left, 1:down, 2:right, 3:up\n",
    "print (\"{}, {}\".format(nS, nA))"
   ]
  },
  {
   "cell_type": "markdown",
   "id": "RAZslvbLx5t5",
   "metadata": {
    "id": "RAZslvbLx5t5"
   },
   "source": [
    "Transition probabilities, rewards and other info are stored a dictionary **env.P**. You use state index (0-based) to access the info. The tuple for each transition indicates (transition_probability, new_state, reward, terminated).\n",
    "\n",
    "**IMPORTANT**: If you get an error \"AttributeError: 'OrderEnforcing' object has no attribute 'P'\", add a line to unwrap the environment and access P inside. For example,\n",
    "\n",
    "<pre># Access the underlying environment using env.unwrapped\n",
    "env_unwrapped = env.unwrapped\n",
    "\n",
    "# Now you can access the transition probabilities\n",
    "env_unwrapped.P[0]</pre>\n"
   ]
  },
  {
   "cell_type": "code",
   "execution_count": 6,
   "id": "a22296b1",
   "metadata": {
    "colab": {
     "base_uri": "https://localhost:8080/"
    },
    "id": "a22296b1",
    "outputId": "812b6474-8b8f-4429-e6a5-fce184f0f6dc"
   },
   "outputs": [
    {
     "data": {
      "text/plain": [
       "{0: [(0.3333333333333333, np.int64(0), -1, False),\n",
       "  (0.3333333333333333, np.int64(0), -1, False),\n",
       "  (0.3333333333333333, np.int64(1), -1, False)],\n",
       " 1: [(0.3333333333333333, np.int64(0), -1, False),\n",
       "  (0.3333333333333333, np.int64(1), -1, False),\n",
       "  (0.3333333333333333, np.int64(12), -1, False)],\n",
       " 2: [(0.3333333333333333, np.int64(1), -1, False),\n",
       "  (0.3333333333333333, np.int64(12), -1, False),\n",
       "  (0.3333333333333333, np.int64(0), -1, False)],\n",
       " 3: [(0.3333333333333333, np.int64(12), -1, False),\n",
       "  (0.3333333333333333, np.int64(0), -1, False),\n",
       "  (0.3333333333333333, np.int64(0), -1, False)]}"
      ]
     },
     "execution_count": 6,
     "metadata": {},
     "output_type": "execute_result"
    }
   ],
   "source": [
    "# Probatilies from State 0 (top-left corner).\n",
    "#env.P[0]\n",
    "\n",
    "# Access the underlying environment using env.unwrapped\n",
    "env_unwrapped = env.unwrapped\n",
    "\n",
    "# Now you can access the transition probabilities\n",
    "env_unwrapped.P[0]"
   ]
  },
  {
   "cell_type": "code",
   "execution_count": 7,
   "id": "58ac62fa",
   "metadata": {
    "colab": {
     "base_uri": "https://localhost:8080/"
    },
    "id": "58ac62fa",
    "outputId": "9f0a1781-fc38-48e8-f63b-ceffedfefd00"
   },
   "outputs": [
    {
     "data": {
      "text/plain": [
       "{0: [(0.3333333333333333, np.int64(36), -1, False),\n",
       "  (0.3333333333333333, np.int64(24), -1, False),\n",
       "  (0.3333333333333333, np.int64(36), -100, False)],\n",
       " 1: [(0.3333333333333333, np.int64(24), -1, False),\n",
       "  (0.3333333333333333, np.int64(36), -100, False),\n",
       "  (0.3333333333333333, np.int64(36), -1, False)],\n",
       " 2: [(0.3333333333333333, np.int64(36), -100, False),\n",
       "  (0.3333333333333333, np.int64(36), -1, False),\n",
       "  (0.3333333333333333, np.int64(36), -1, False)],\n",
       " 3: [(0.3333333333333333, np.int64(36), -1, False),\n",
       "  (0.3333333333333333, np.int64(36), -1, False),\n",
       "  (0.3333333333333333, np.int64(24), -1, False)]}"
      ]
     },
     "execution_count": 7,
     "metadata": {},
     "output_type": "execute_result"
    }
   ],
   "source": [
    "# Probatilies from the start state (36)\n",
    "env_unwrapped.P[36]"
   ]
  },
  {
   "cell_type": "code",
   "execution_count": 8,
   "id": "7g4qKjzcSWn0",
   "metadata": {
    "colab": {
     "base_uri": "https://localhost:8080/"
    },
    "id": "7g4qKjzcSWn0",
    "outputId": "4f37ca23-de1f-457c-f048-1778d4075e12"
   },
   "outputs": [
    {
     "data": {
      "text/plain": [
       "[(0.3333333333333333, np.int64(12), -1, False),\n",
       " (0.3333333333333333, np.int64(25), -1, False),\n",
       " (0.3333333333333333, np.int64(36), -1, False)]"
      ]
     },
     "execution_count": 8,
     "metadata": {},
     "output_type": "execute_result"
    }
   ],
   "source": [
    "# Transition probability for trying to go left (action 3) from the start state (36)\n",
    "env_unwrapped.P[24][1]"
   ]
  },
  {
   "cell_type": "markdown",
   "id": "f1d84c72",
   "metadata": {
    "id": "f1d84c72"
   },
   "source": [
    "## 3. Create a random/fixed policy and run the policy once.\n"
   ]
  },
  {
   "cell_type": "code",
   "execution_count": 9,
   "id": "i1A6adBPn7F_",
   "metadata": {
    "id": "i1A6adBPn7F_"
   },
   "outputs": [],
   "source": [
    "def generate_random_policy(num_actions, num_states, seed=None):\n",
    "    \"\"\"\n",
    "    A policy is a 1D array of length # of states, where each element is a\n",
    "    number between 0 (inclusive) and # of actions (exclusive) randomly chosen.\n",
    "    If a specific seed is passed, the same numbers are genereated, while\n",
    "    if the seed is None, the numbers are unpredictable every time.\n",
    "    \"\"\"\n",
    "    rng = np.random.default_rng(seed)\n",
    "    return rng.integers(low=0, high=num_actions, size=num_states)"
   ]
  },
  {
   "cell_type": "code",
   "execution_count": 10,
   "id": "LWXY4PoCvArD",
   "metadata": {
    "id": "LWXY4PoCvArD"
   },
   "outputs": [],
   "source": [
    "def run(env, pi, printinfo = False):\n",
    "    \"\"\"\n",
    "    Run the policy on the environment and returns the cumulative reward.\n",
    "    :param: env: The environment\n",
    "    :param: pi: A given policy, represented as a 1D array of length # of states.\n",
    "    :return: Cumulative reward\n",
    "    \"\"\"\n",
    "    s = env.reset()\n",
    "    if printinfo == True:\n",
    "      print (f'\\n* Episode starting from state {s[0]}') # ensure starting from state 36\n",
    "\n",
    "    s = s[0]      # extract the state value/index from the tuple\n",
    "    done = False  # this becomes true when agent reaches the goal state (47)\n",
    "    sum_r = 0\n",
    "    step_count = 0\n",
    "    near_fall = 0\n",
    "    near_fall_cells = [25, 26, 27, 28, 29, 30, 31, 32, 33, 34, 35]\n",
    "    while not done:\n",
    "        a = pi[s]   # action for the state s, according to the policy\n",
    "        if s in near_fall_cells:\n",
    "            near_fall += 1\n",
    "        step_count += 1\n",
    "        s, r, done, info, p = env.step(a)  # take the action\n",
    "        sum_r += r  # accumulate reward\n",
    "\n",
    "        ### uncomment below to see the information for each step\n",
    "        #print (f'next_state={s}, reward={r}, done={done}, info={info}, p={p}')\n",
    "\n",
    "        # prints info in text if render_mode is 'ansi' or no output if 'human',\n",
    "        # or graphical output if 'rgb_array' AND if the code is run from command line.\n",
    "        env.render()\n",
    "    return sum_r,step_count,near_fall"
   ]
  },
  {
   "cell_type": "markdown",
   "id": "EWn5en-soDkw",
   "metadata": {
    "id": "EWn5en-soDkw"
   },
   "source": [
    "### Run the given policy just once and observe what's returned (the total return).\n"
   ]
  },
  {
   "cell_type": "code",
   "execution_count": 11,
   "id": "-8y99awdoDZX",
   "metadata": {
    "colab": {
     "base_uri": "https://localhost:8080/"
    },
    "id": "-8y99awdoDZX",
    "outputId": "f2db0470-541a-4c1e-f497-ab0eb4bd46a1"
   },
   "outputs": [
    {
     "name": "stdout",
     "output_type": "stream",
     "text": [
      "*** Policy ***\n",
      "[[2 3 0 0 1 2 3 1 0 0 1 1]\n",
      " [3 1 2 2 0 2 0 0 2 1 1 2]\n",
      " [0 0 2 3 2 3 1 0 2 2 2 2]\n",
      " [1 0 2 0 1 0 2 1 1 2 0 1]]\n",
      " ==> Total return: (-19859, 3425, 636)\n"
     ]
    }
   ],
   "source": [
    "policy = generate_random_policy(nA, nS, 17) # third parameter is the random seed\n",
    "print (\"*** Policy ***\\n{}\".format(policy.reshape((4, 12))))\n",
    "\n",
    "# Do just one run\n",
    "result = run(env, policy)\n",
    "# Print the total rewards/return\n",
    "print (f' ==> Total return: {result}')"
   ]
  },
  {
   "cell_type": "code",
   "execution_count": 19,
   "id": "1fd7c0d9",
   "metadata": {},
   "outputs": [],
   "source": [
    "def procedure(policy, num_episodes):\n",
    "    \"\"\"\n",
    "    Run the policy for a number of episodes and return the average cumulative reward.\n",
    "    :param: policy: A given policy, represented as a 1D array of length # of states.\n",
    "    \"\"\"\n",
    "    print (\"Running the policy for {} episodes...\".format(num_episodes))\n",
    "    total_reward = []\n",
    "    total_steps = []\n",
    "    total_near_fall= []\n",
    "    for i in range(num_episodes):\n",
    "        if i % 10 == 0:\n",
    "            print(\"Currently at episode: \", i)\n",
    "        r, steps, near_fall_count = run(env, policy)\n",
    "        total_reward.append(r)\n",
    "        total_steps.append(steps)\n",
    "        total_near_fall.append(near_fall_count)\n",
    "    return total_reward, total_steps, total_near_fall"
   ]
  },
  {
   "cell_type": "code",
   "execution_count": 24,
   "id": "ee64e104",
   "metadata": {},
   "outputs": [],
   "source": [
    "import matplotlib.pyplot as plt\n",
    "def output(total_reward, total_steps, total_near_fall):\n",
    "    \"\"\"\n",
    "    Output the average cumulative reward and the standard deviation.\n",
    "    \"\"\"\n",
    "    print (f' ==> Average reward: {np.mean(total_reward)}')\n",
    "    print (f' ==> Average steps: {np.mean(total_steps)}')\n",
    "    print (f' ==> Average near fall: {np.mean(total_near_fall)}')\n",
    "    print (f' ==> Standard deviation of reward: {np.std(total_reward)}')\n",
    "    print (f' ==> Standard deviation of steps: {np.std(total_steps)}')\n",
    "    print (f' ==> Standard deviation of near fall: {np.std(total_near_fall)}')\n",
    "    \n",
    "    plt.hist(total_reward, bins=20)\n",
    "    plt.title('Histogram of rewards')\n",
    "    plt.show()\n",
    "    \n",
    "    plt.hist(total_steps, bins=20)\n",
    "    plt.title('Histogram of steps')\n",
    "    plt.show()\n",
    "    \n",
    "    plt.hist(total_near_fall, bins=20)\n",
    "    plt.title('Histogram of near falls')\n",
    "    plt.show()\n",
    "    \n",
    "    "
   ]
  },
  {
   "cell_type": "code",
   "execution_count": 25,
   "id": "5c3552e7",
   "metadata": {},
   "outputs": [
    {
     "name": "stdout",
     "output_type": "stream",
     "text": [
      "Running the policy for 100 episodes...\n",
      "Currently at episode:  0\n",
      "Currently at episode:  10\n",
      "Currently at episode:  20\n",
      "Currently at episode:  30\n",
      "Currently at episode:  40\n",
      "Currently at episode:  50\n",
      "Currently at episode:  60\n",
      "Currently at episode:  70\n",
      "Currently at episode:  80\n",
      "Currently at episode:  90\n",
      " ==> Average reward: -28211.58\n",
      " ==> Average steps: 4229.82\n",
      " ==> Average near fall: 772.21\n",
      " ==> Standard deviation of reward: 30576.73108302455\n",
      " ==> Standard deviation of steps: 4574.769614701925\n",
      " ==> Standard deviation of near fall: 840.5266122497254\n"
     ]
    },
    {
     "data": {
      "image/png": "[encoded data removed]",
      "text/plain": [
       "<Figure size 640x480 with 1 Axes>"
      ]
     },
     "metadata": {},
     "output_type": "display_data"
    },
    {
     "data": {
      "image/png": "[encoded data removed]",
      "text/plain": [
       "<Figure size 640x480 with 1 Axes>"
      ]
     },
     "metadata": {},
     "output_type": "display_data"
    },
    {
     "data": {
      "image/png": "[encoded data removed]",
      "text/plain": [
       "<Figure size 640x480 with 1 Axes>"
      ]
     },
     "metadata": {},
     "output_type": "display_data"
    },
    {
     "name": "stdout",
     "output_type": "stream",
     "text": [
      "Running the policy for 100 episodes...\n",
      "Currently at episode:  0\n"
     ]
    },
    {
     "ename": "KeyboardInterrupt",
     "evalue": "",
     "output_type": "error",
     "traceback": [
      "\u001b[0;31m---------------------------------------------------------------------------\u001b[0m",
      "\u001b[0;31mKeyboardInterrupt\u001b[0m                         Traceback (most recent call last)",
      "Cell \u001b[0;32mIn[25], line 9\u001b[0m\n\u001b[1;32m      6\u001b[0m policy3 \u001b[38;5;241m=\u001b[39m generate_random_policy(nA, nS, \u001b[38;5;241m123\u001b[39m) \u001b[38;5;66;03m# third parameter is the random seed\u001b[39;00m\n\u001b[1;32m      8\u001b[0m \u001b[38;5;28;01mfor\u001b[39;00m policy \u001b[38;5;129;01min\u001b[39;00m [policy1, policy2, policy3]:\n\u001b[0;32m----> 9\u001b[0m     total_reward, total_steps, total_near_fall \u001b[38;5;241m=\u001b[39m \u001b[43mprocedure\u001b[49m\u001b[43m(\u001b[49m\u001b[43mpolicy\u001b[49m\u001b[43m,\u001b[49m\u001b[43m \u001b[49m\u001b[43mn\u001b[49m\u001b[43m)\u001b[49m\n\u001b[1;32m     10\u001b[0m     output(total_reward, total_steps, total_near_fall)\n",
      "Cell \u001b[0;32mIn[19], line 13\u001b[0m, in \u001b[0;36mprocedure\u001b[0;34m(policy, num_episodes)\u001b[0m\n\u001b[1;32m     11\u001b[0m \u001b[38;5;28;01mif\u001b[39;00m i \u001b[38;5;241m%\u001b[39m \u001b[38;5;241m10\u001b[39m \u001b[38;5;241m==\u001b[39m \u001b[38;5;241m0\u001b[39m:\n\u001b[1;32m     12\u001b[0m     \u001b[38;5;28mprint\u001b[39m(\u001b[38;5;124m\"\u001b[39m\u001b[38;5;124mCurrently at episode: \u001b[39m\u001b[38;5;124m\"\u001b[39m, i)\n\u001b[0;32m---> 13\u001b[0m r, steps, near_fall_count \u001b[38;5;241m=\u001b[39m \u001b[43mrun\u001b[49m\u001b[43m(\u001b[49m\u001b[43menv\u001b[49m\u001b[43m,\u001b[49m\u001b[43m \u001b[49m\u001b[43mpolicy\u001b[49m\u001b[43m)\u001b[49m\n\u001b[1;32m     14\u001b[0m total_reward\u001b[38;5;241m.\u001b[39mappend(r)\n\u001b[1;32m     15\u001b[0m total_steps\u001b[38;5;241m.\u001b[39mappend(steps)\n",
      "Cell \u001b[0;32mIn[10], line 31\u001b[0m, in \u001b[0;36mrun\u001b[0;34m(env, pi, printinfo)\u001b[0m\n\u001b[1;32m     24\u001b[0m     sum_r \u001b[38;5;241m+\u001b[39m\u001b[38;5;241m=\u001b[39m r  \u001b[38;5;66;03m# accumulate reward\u001b[39;00m\n\u001b[1;32m     26\u001b[0m     \u001b[38;5;66;03m### uncomment below to see the information for each step\u001b[39;00m\n\u001b[1;32m     27\u001b[0m     \u001b[38;5;66;03m#print (f'next_state={s}, reward={r}, done={done}, info={info}, p={p}')\u001b[39;00m\n\u001b[1;32m     28\u001b[0m \n\u001b[1;32m     29\u001b[0m     \u001b[38;5;66;03m# prints info in text if render_mode is 'ansi' or no output if 'human',\u001b[39;00m\n\u001b[1;32m     30\u001b[0m     \u001b[38;5;66;03m# or graphical output if 'rgb_array' AND if the code is run from command line.\u001b[39;00m\n\u001b[0;32m---> 31\u001b[0m     \u001b[43menv\u001b[49m\u001b[38;5;241;43m.\u001b[39;49m\u001b[43mrender\u001b[49m\u001b[43m(\u001b[49m\u001b[43m)\u001b[49m\n\u001b[1;32m     32\u001b[0m \u001b[38;5;28;01mreturn\u001b[39;00m sum_r,step_count,near_fall\n",
      "File \u001b[0;32m~/Documents/Classes/Winter 2025/AI 2.0/CSC580_Winter2025/.venv/lib/python3.9/site-packages/gymnasium/wrappers/common.py:409\u001b[0m, in \u001b[0;36mOrderEnforcing.render\u001b[0;34m(self)\u001b[0m\n\u001b[1;32m    404\u001b[0m \u001b[38;5;28;01mif\u001b[39;00m \u001b[38;5;129;01mnot\u001b[39;00m \u001b[38;5;28mself\u001b[39m\u001b[38;5;241m.\u001b[39m_disable_render_order_enforcing \u001b[38;5;129;01mand\u001b[39;00m \u001b[38;5;129;01mnot\u001b[39;00m \u001b[38;5;28mself\u001b[39m\u001b[38;5;241m.\u001b[39m_has_reset:\n\u001b[1;32m    405\u001b[0m     \u001b[38;5;28;01mraise\u001b[39;00m ResetNeeded(\n\u001b[1;32m    406\u001b[0m         \u001b[38;5;124m\"\u001b[39m\u001b[38;5;124mCannot call `env.render()` before calling `env.reset()`, if this is an intended action, \u001b[39m\u001b[38;5;124m\"\u001b[39m\n\u001b[1;32m    407\u001b[0m         \u001b[38;5;124m\"\u001b[39m\u001b[38;5;124mset `disable_render_order_enforcing=True` on the OrderEnforcer wrapper.\u001b[39m\u001b[38;5;124m\"\u001b[39m\n\u001b[1;32m    408\u001b[0m     )\n\u001b[0;32m--> 409\u001b[0m \u001b[38;5;28;01mreturn\u001b[39;00m \u001b[38;5;28;43msuper\u001b[39;49m\u001b[43m(\u001b[49m\u001b[43m)\u001b[49m\u001b[38;5;241;43m.\u001b[39;49m\u001b[43mrender\u001b[49m\u001b[43m(\u001b[49m\u001b[43m)\u001b[49m\n",
      "File \u001b[0;32m~/Documents/Classes/Winter 2025/AI 2.0/CSC580_Winter2025/.venv/lib/python3.9/site-packages/gymnasium/core.py:332\u001b[0m, in \u001b[0;36mWrapper.render\u001b[0;34m(self)\u001b[0m\n\u001b[1;32m    330\u001b[0m \u001b[38;5;28;01mdef\u001b[39;00m\u001b[38;5;250m \u001b[39m\u001b[38;5;21mrender\u001b[39m(\u001b[38;5;28mself\u001b[39m) \u001b[38;5;241m-\u001b[39m\u001b[38;5;241m>\u001b[39m RenderFrame \u001b[38;5;241m|\u001b[39m \u001b[38;5;28mlist\u001b[39m[RenderFrame] \u001b[38;5;241m|\u001b[39m \u001b[38;5;28;01mNone\u001b[39;00m:\n\u001b[1;32m    331\u001b[0m \u001b[38;5;250m    \u001b[39m\u001b[38;5;124;03m\"\"\"Uses the :meth:`render` of the :attr:`env` that can be overwritten to change the returned data.\"\"\"\u001b[39;00m\n\u001b[0;32m--> 332\u001b[0m     \u001b[38;5;28;01mreturn\u001b[39;00m \u001b[38;5;28;43mself\u001b[39;49m\u001b[38;5;241;43m.\u001b[39;49m\u001b[43menv\u001b[49m\u001b[38;5;241;43m.\u001b[39;49m\u001b[43mrender\u001b[49m\u001b[43m(\u001b[49m\u001b[43m)\u001b[49m\n",
      "File \u001b[0;32m~/Documents/Classes/Winter 2025/AI 2.0/CSC580_Winter2025/.venv/lib/python3.9/site-packages/gymnasium/wrappers/common.py:303\u001b[0m, in \u001b[0;36mPassiveEnvChecker.render\u001b[0;34m(self)\u001b[0m\n\u001b[1;32m    301\u001b[0m     \u001b[38;5;28;01mreturn\u001b[39;00m env_render_passive_checker(\u001b[38;5;28mself\u001b[39m\u001b[38;5;241m.\u001b[39menv)\n\u001b[1;32m    302\u001b[0m \u001b[38;5;28;01melse\u001b[39;00m:\n\u001b[0;32m--> 303\u001b[0m     \u001b[38;5;28;01mreturn\u001b[39;00m \u001b[38;5;28;43mself\u001b[39;49m\u001b[38;5;241;43m.\u001b[39;49m\u001b[43menv\u001b[49m\u001b[38;5;241;43m.\u001b[39;49m\u001b[43mrender\u001b[49m\u001b[43m(\u001b[49m\u001b[43m)\u001b[49m\n",
      "File \u001b[0;32m~/Documents/Classes/Winter 2025/AI 2.0/CSC580_Winter2025/.venv/lib/python3.9/site-packages/gymnasium/envs/toy_text/cliffwalking.py:228\u001b[0m, in \u001b[0;36mCliffWalkingEnv.render\u001b[0;34m(self)\u001b[0m\n\u001b[1;32m    226\u001b[0m     \u001b[38;5;28;01mreturn\u001b[39;00m \u001b[38;5;28mself\u001b[39m\u001b[38;5;241m.\u001b[39m_render_text()\n\u001b[1;32m    227\u001b[0m \u001b[38;5;28;01melse\u001b[39;00m:\n\u001b[0;32m--> 228\u001b[0m     \u001b[38;5;28;01mreturn\u001b[39;00m \u001b[38;5;28;43mself\u001b[39;49m\u001b[38;5;241;43m.\u001b[39;49m\u001b[43m_render_gui\u001b[49m\u001b[43m(\u001b[49m\u001b[38;5;28;43mself\u001b[39;49m\u001b[38;5;241;43m.\u001b[39;49m\u001b[43mrender_mode\u001b[49m\u001b[43m)\u001b[49m\n",
      "File \u001b[0;32m~/Documents/Classes/Winter 2025/AI 2.0/CSC580_Winter2025/.venv/lib/python3.9/site-packages/gymnasium/envs/toy_text/cliffwalking.py:318\u001b[0m, in \u001b[0;36mCliffWalkingEnv._render_gui\u001b[0;34m(self, mode)\u001b[0m\n\u001b[1;32m    315\u001b[0m     \u001b[38;5;28mself\u001b[39m\u001b[38;5;241m.\u001b[39mclock\u001b[38;5;241m.\u001b[39mtick(\u001b[38;5;28mself\u001b[39m\u001b[38;5;241m.\u001b[39mmetadata[\u001b[38;5;124m\"\u001b[39m\u001b[38;5;124mrender_fps\u001b[39m\u001b[38;5;124m\"\u001b[39m])\n\u001b[1;32m    316\u001b[0m \u001b[38;5;28;01melse\u001b[39;00m:  \u001b[38;5;66;03m# rgb_array\u001b[39;00m\n\u001b[1;32m    317\u001b[0m     \u001b[38;5;28;01mreturn\u001b[39;00m np\u001b[38;5;241m.\u001b[39mtranspose(\n\u001b[0;32m--> 318\u001b[0m         \u001b[43mnp\u001b[49m\u001b[38;5;241;43m.\u001b[39;49m\u001b[43marray\u001b[49m\u001b[43m(\u001b[49m\u001b[43mpygame\u001b[49m\u001b[38;5;241;43m.\u001b[39;49m\u001b[43msurfarray\u001b[49m\u001b[38;5;241;43m.\u001b[39;49m\u001b[43mpixels3d\u001b[49m\u001b[43m(\u001b[49m\u001b[38;5;28;43mself\u001b[39;49m\u001b[38;5;241;43m.\u001b[39;49m\u001b[43mwindow_surface\u001b[49m\u001b[43m)\u001b[49m\u001b[43m)\u001b[49m, axes\u001b[38;5;241m=\u001b[39m(\u001b[38;5;241m1\u001b[39m, \u001b[38;5;241m0\u001b[39m, \u001b[38;5;241m2\u001b[39m)\n\u001b[1;32m    319\u001b[0m     )\n",
      "\u001b[0;31mKeyboardInterrupt\u001b[0m: "
     ]
    }
   ],
   "source": [
    "# Do 100 runs and print the average return\n",
    "n = 100\n",
    "    \n",
    "policy1 = generate_random_policy(nA, nS, 17) # third parameter is the random seed\n",
    "policy2 = generate_random_policy(nA, nS, 42) # third parameter is the random seed\n",
    "policy3 = generate_random_policy(nA, nS, 123) # third parameter is the random seed\n",
    "\n",
    "for policy in [policy1, policy2, policy3]:\n",
    "    total_reward, total_steps, total_near_fall = procedure(policy, n)\n",
    "    output(total_reward, total_steps, total_near_fall)"
   ]
  },
  {
   "cell_type": "code",
   "execution_count": null,
   "id": "a43cf12e",
   "metadata": {},
   "outputs": [],
   "source": []
  }
 ],
 "metadata": {
  "colab": {
   "provenance": []
  },
  "kernelspec": {
   "display_name": ".venv",
   "language": "python",
   "name": "python3"
  },
  "language_info": {
   "codemirror_mode": {
    "name": "ipython",
    "version": 3
   },
   "file_extension": ".py",
   "mimetype": "text/x-python",
   "name": "python",
   "nbconvert_exporter": "python",
   "pygments_lexer": "ipython3",
   "version": "3.9.6"
  }
 },
 "nbformat": 4,
 "nbformat_minor": 5
}
